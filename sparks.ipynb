{
 "cells": [
  {
   "cell_type": "markdown",
   "id": "b7c1a19b-37b0-4275-9e3d-234b8b99cb26",
   "metadata": {
    "tags": []
   },
   "source": [
    "<h1>GRADUATE ROTATIONAL INTERNSHIP PROGRAM @SPARK FOUNDATION</h1>\n",
    "<h2>Author - Joseph K Thomas</h2>\n",
    "\n",
    "<h1>TASK 1 - PREDICTION USING SUPERVISED MACHINE LEARNING</h1>import pandas as pd\n",
    "import numpy as np\n",
    "import matplotlib.pyplot as plt\n",
    "%matplotlib inline\n"
   ]
  },
  {
   "cell_type": "markdown",
   "id": "416c01f7-3dfc-4638-96f5-19d197b9e4fd",
   "metadata": {},
   "source": [
    "<h2>STEP 1 : Importing the Data<h2>"
   ]
  },
  {
   "cell_type": "code",
   "execution_count": 1,
   "id": "4923605a-e501-44a8-a829-501ce36f19c1",
   "metadata": {},
   "outputs": [],
   "source": [
    "import pandas as pd\n",
    "import numpy as np\n",
    "import matplotlib.pyplot as plt\n",
    "%matplotlib inline"
   ]
  },
  {
   "cell_type": "code",
   "execution_count": 2,
   "id": "16a5dcea-bdb1-437c-879c-08dd294e105e",
   "metadata": {},
   "outputs": [
    {
     "data": {
      "text/html": [
       "<div>\n",
       "<style scoped>\n",
       "    .dataframe tbody tr th:only-of-type {\n",
       "        vertical-align: middle;\n",
       "    }\n",
       "\n",
       "    .dataframe tbody tr th {\n",
       "        vertical-align: top;\n",
       "    }\n",
       "\n",
       "    .dataframe thead th {\n",
       "        text-align: right;\n",
       "    }\n",
       "</style>\n",
       "<table border=\"1\" class=\"dataframe\">\n",
       "  <thead>\n",
       "    <tr style=\"text-align: right;\">\n",
       "      <th></th>\n",
       "      <th>Hours</th>\n",
       "      <th>Scores</th>\n",
       "    </tr>\n",
       "  </thead>\n",
       "  <tbody>\n",
       "    <tr>\n",
       "      <th>0</th>\n",
       "      <td>2.5</td>\n",
       "      <td>21</td>\n",
       "    </tr>\n",
       "    <tr>\n",
       "      <th>1</th>\n",
       "      <td>5.1</td>\n",
       "      <td>47</td>\n",
       "    </tr>\n",
       "    <tr>\n",
       "      <th>2</th>\n",
       "      <td>3.2</td>\n",
       "      <td>27</td>\n",
       "    </tr>\n",
       "    <tr>\n",
       "      <th>3</th>\n",
       "      <td>8.5</td>\n",
       "      <td>75</td>\n",
       "    </tr>\n",
       "    <tr>\n",
       "      <th>4</th>\n",
       "      <td>3.5</td>\n",
       "      <td>30</td>\n",
       "    </tr>\n",
       "    <tr>\n",
       "      <th>5</th>\n",
       "      <td>1.5</td>\n",
       "      <td>20</td>\n",
       "    </tr>\n",
       "    <tr>\n",
       "      <th>6</th>\n",
       "      <td>9.2</td>\n",
       "      <td>88</td>\n",
       "    </tr>\n",
       "    <tr>\n",
       "      <th>7</th>\n",
       "      <td>5.5</td>\n",
       "      <td>60</td>\n",
       "    </tr>\n",
       "    <tr>\n",
       "      <th>8</th>\n",
       "      <td>8.3</td>\n",
       "      <td>81</td>\n",
       "    </tr>\n",
       "    <tr>\n",
       "      <th>9</th>\n",
       "      <td>2.7</td>\n",
       "      <td>25</td>\n",
       "    </tr>\n",
       "  </tbody>\n",
       "</table>\n",
       "</div>"
      ],
      "text/plain": [
       "   Hours  Scores\n",
       "0    2.5      21\n",
       "1    5.1      47\n",
       "2    3.2      27\n",
       "3    8.5      75\n",
       "4    3.5      30\n",
       "5    1.5      20\n",
       "6    9.2      88\n",
       "7    5.5      60\n",
       "8    8.3      81\n",
       "9    2.7      25"
      ]
     },
     "execution_count": 2,
     "metadata": {},
     "output_type": "execute_result"
    }
   ],
   "source": [
    "url='http://bit.ly/w-data'\n",
    "s_data = pd.read_csv(url)\n",
    "s_data.head(10)"
   ]
  },
  {
   "cell_type": "markdown",
   "id": "a9046c9f-d4f4-4c8e-b78e-149ee24b0fcf",
   "metadata": {},
   "source": [
    "<h2>STEP 2 : Visualizing the Data</h2"
   ]
  },
  {
   "cell_type": "code",
   "execution_count": 3,
   "id": "e26c76c2-502e-47ee-8629-872d85724989",
   "metadata": {},
   "outputs": [
    {
     "data": {
      "image/png": "[encoded data removed]",
      "text/plain": [
       "<Figure size 432x288 with 1 Axes>"
      ]
     },
     "metadata": {
      "needs_background": "light"
     },
     "output_type": "display_data"
    }
   ],
   "source": [
    "s_data.plot(x='Hours', y='Scores',style ='o',color='green' )\n",
    "plt.title('Hours_Study v/s Percentage_Score')\n",
    "plt.xlabel('Hours_Study')\n",
    "plt.ylabel('Percentage_Score')\n",
    "plt.show()"
   ]
  },
  {
   "cell_type": "markdown",
   "id": "5914df6d-5795-484b-aef6-e5c2cadb55d4",
   "metadata": {},
   "source": [
    "<h2>STEP 3 : Data Preparation</h2>"
   ]
  },
  {
   "cell_type": "code",
   "execution_count": 4,
   "id": "ee89cf9d-dc8d-44aa-9411-180d43cb55cd",
   "metadata": {},
   "outputs": [],
   "source": [
    "X = s_data.iloc[:, :-1].values\n",
    "y = s_data.iloc[:, 1].values"
   ]
  },
  {
   "cell_type": "code",
   "execution_count": 5,
   "id": "2ff21142-1563-4c0e-a4d7-c036a9be59dc",
   "metadata": {},
   "outputs": [
    {
     "data": {
      "text/plain": [
       "array([[2.5],\n",
       "       [5.1],\n",
       "       [3.2],\n",
       "       [8.5],\n",
       "       [3.5],\n",
       "       [1.5],\n",
       "       [9.2],\n",
       "       [5.5],\n",
       "       [8.3],\n",
       "       [2.7],\n",
       "       [7.7],\n",
       "       [5.9],\n",
       "       [4.5],\n",
       "       [3.3],\n",
       "       [1.1],\n",
       "       [8.9],\n",
       "       [2.5],\n",
       "       [1.9],\n",
       "       [6.1],\n",
       "       [7.4],\n",
       "       [2.7],\n",
       "       [4.8],\n",
       "       [3.8],\n",
       "       [6.9],\n",
       "       [7.8]])"
      ]
     },
     "execution_count": 5,
     "metadata": {},
     "output_type": "execute_result"
    }
   ],
   "source": [
    "X\n",
    "\n"
   ]
  },
  {
   "cell_type": "code",
   "execution_count": 6,
   "id": "05ab205b-fa53-4183-a946-252d105d82c2",
   "metadata": {},
   "outputs": [
    {
     "data": {
      "text/plain": [
       "array([21, 47, 27, 75, 30, 20, 88, 60, 81, 25, 85, 62, 41, 42, 17, 95, 30,\n",
       "       24, 67, 69, 30, 54, 35, 76, 86])"
      ]
     },
     "execution_count": 6,
     "metadata": {},
     "output_type": "execute_result"
    }
   ],
   "source": [
    "y\n"
   ]
  },
  {
   "cell_type": "code",
   "execution_count": 7,
   "id": "0e6335a6-f8bc-4519-8c3d-6b9b7b506b4f",
   "metadata": {},
   "outputs": [],
   "source": [
    "from sklearn.model_selection import train_test_split\n",
    "X_train,X_test,y_train,y_test = train_test_split(X,y,test_size = 0.2,random_state =0)"
   ]
  },
  {
   "cell_type": "markdown",
   "id": "d75f8700-ac53-4b8c-9553-af978c611af3",
   "metadata": {},
   "source": [
    "<h2>STEP 4 : Training algorithm and Plotting the regression line</h2>\n"
   ]
  },
  {
   "cell_type": "code",
   "execution_count": 10,
   "id": "248f534b-eb04-4a62-9931-a2fd4d69d28a",
   "metadata": {},
   "outputs": [
    {
     "name": "stdout",
     "output_type": "stream",
     "text": [
      "Training model\n"
     ]
    }
   ],
   "source": [
    "from sklearn.linear_model import LinearRegression\n",
    "Regressor1 = LinearRegression()\n",
    "Regressor1.fit(X,y)\n",
    "print(\"Training model\")"
   ]
  },
  {
   "cell_type": "code",
   "execution_count": 12,
   "id": "ba8276d9-3c5c-4577-97bd-f619fb7dc11a",
   "metadata": {},
   "outputs": [
    {
     "data": {
      "image/png": "[encoded data removed]",
      "text/plain": [
       "<Figure size 432x288 with 1 Axes>"
      ]
     },
     "metadata": {
      "needs_background": "light"
     },
     "output_type": "display_data"
    }
   ],
   "source": [
    "#plotting the regression line\n",
    "line = Regressor1.coef_*X+Regressor1.intercept_\n",
    "#plotting for test\n",
    "plt.scatter(X,y,color='red')\n",
    "plt.plot(X,line)\n",
    "plt.show()"
   ]
  },
  {
   "cell_type": "markdown",
   "id": "4b9c8f0b-3ab8-4070-9a28-08d517fc3eee",
   "metadata": {},
   "source": [
    "<h2>STEP 5 : Predictions</h2>"
   ]
  },
  {
   "cell_type": "code",
   "execution_count": 13,
   "id": "651a87fd-40e3-4d4c-ae02-d06d4f1becf6",
   "metadata": {},
   "outputs": [
    {
     "name": "stdout",
     "output_type": "stream",
     "text": [
      "[[1.5]\n",
      " [3.2]\n",
      " [7.4]\n",
      " [2.5]\n",
      " [5.9]]\n"
     ]
    }
   ],
   "source": [
    "print(X_test) #Testing data\n",
    "y_pred = Regressor1.predict(X_test)"
   ]
  },
  {
   "cell_type": "code",
   "execution_count": 14,
   "id": "f7595348-ef56-4a07-86eb-8de95d1df27f",
   "metadata": {},
   "outputs": [
    {
     "data": {
      "text/html": [
       "<div>\n",
       "<style scoped>\n",
       "    .dataframe tbody tr th:only-of-type {\n",
       "        vertical-align: middle;\n",
       "    }\n",
       "\n",
       "    .dataframe tbody tr th {\n",
       "        vertical-align: top;\n",
       "    }\n",
       "\n",
       "    .dataframe thead th {\n",
       "        text-align: right;\n",
       "    }\n",
       "</style>\n",
       "<table border=\"1\" class=\"dataframe\">\n",
       "  <thead>\n",
       "    <tr style=\"text-align: right;\">\n",
       "      <th></th>\n",
       "      <th>Actual</th>\n",
       "      <th>Predicted</th>\n",
       "    </tr>\n",
       "  </thead>\n",
       "  <tbody>\n",
       "    <tr>\n",
       "      <th>0</th>\n",
       "      <td>20</td>\n",
       "      <td>17.147378</td>\n",
       "    </tr>\n",
       "    <tr>\n",
       "      <th>1</th>\n",
       "      <td>27</td>\n",
       "      <td>33.766244</td>\n",
       "    </tr>\n",
       "    <tr>\n",
       "      <th>2</th>\n",
       "      <td>69</td>\n",
       "      <td>74.824618</td>\n",
       "    </tr>\n",
       "    <tr>\n",
       "      <th>3</th>\n",
       "      <td>30</td>\n",
       "      <td>26.923182</td>\n",
       "    </tr>\n",
       "    <tr>\n",
       "      <th>4</th>\n",
       "      <td>62</td>\n",
       "      <td>60.160913</td>\n",
       "    </tr>\n",
       "  </tbody>\n",
       "</table>\n",
       "</div>"
      ],
      "text/plain": [
       "   Actual  Predicted\n",
       "0      20  17.147378\n",
       "1      27  33.766244\n",
       "2      69  74.824618\n",
       "3      30  26.923182\n",
       "4      62  60.160913"
      ]
     },
     "execution_count": 14,
     "metadata": {},
     "output_type": "execute_result"
    }
   ],
   "source": [
    "#Comparing actual v/s predicted\n",
    "df = pd.DataFrame({'Actual' : y_test, 'Predicted' : y_pred})\n",
    "df"
   ]
  },
  {
   "cell_type": "code",
   "execution_count": 15,
   "id": "7257755b-7681-4132-921d-083ee0efc69b",
   "metadata": {},
   "outputs": [
    {
     "name": "stdout",
     "output_type": "stream",
     "text": [
      "Training score 0.9512837351709387\n",
      "Testing score 0.9491748734859172\n"
     ]
    }
   ],
   "source": [
    "print(\"Training score\", Regressor1.score(X_train,y_train))\n",
    "print(\"Testing score\", Regressor1.score(X_test,y_test))"
   ]
  },
  {
   "cell_type": "code",
   "execution_count": 16,
   "id": "488996b5-29f6-4d16-a3e0-72a1aaff9d4c",
   "metadata": {},
   "outputs": [
    {
     "data": {
      "image/png": "[encoded data removed]",
      "text/plain": [
       "<Figure size 504x504 with 1 Axes>"
      ]
     },
     "metadata": {
      "needs_background": "light"
     },
     "output_type": "display_data"
    }
   ],
   "source": [
    "#plotting the bar chart to depict the actual and predicted value\n",
    "df.plot(kind = 'bar',figsize = (7,7))\n",
    "plt.show()"
   ]
  },
  {
   "cell_type": "code",
   "execution_count": 17,
   "id": "b6bb40c2-2bfb-4df0-942c-95a03aacd02f",
   "metadata": {},
   "outputs": [
    {
     "name": "stdout",
     "output_type": "stream",
     "text": [
      "No of hours =9.25\n",
      "Predicted Score =92.9098547701573\n"
     ]
    }
   ],
   "source": [
    "#prediction for 9.25hr \n",
    "hours = 9.25\n",
    "test = np.array([hours])\n",
    "test = test.reshape(-1,1)\n",
    "own_pred = Regressor1.predict(test)\n",
    "print(\"No of hours ={}\".format(hours))\n",
    "print(\"Predicted Score ={}\".format(own_pred[0]))"
   ]
  },
  {
   "cell_type": "markdown",
   "id": "be7dbd98-71e3-4c3e-9a27-62ed54b5d9a4",
   "metadata": {},
   "source": [
    "<h2>STEP 6 : Evaluating Model</h2>"
   ]
  },
  {
   "cell_type": "code",
   "execution_count": 18,
   "id": "92846c9e-078e-47f7-bed4-9a39ec5d81ef",
   "metadata": {},
   "outputs": [
    {
     "name": "stdout",
     "output_type": "stream",
     "text": [
      "Mean Absolute Error: 4.071877793635605\n",
      "Mean Squared Error: 20.138948129940175\n",
      "Root Mean Squared Error: 4.487643939746131\n",
      "Explained Variance Score: 0.9515224335188082\n"
     ]
    }
   ],
   "source": [
    "import numpy as np\n",
    "from sklearn import metrics\n",
    "print('Mean Absolute Error:',metrics.mean_absolute_error(y_test,y_pred))\n",
    "print('Mean Squared Error:',metrics.mean_squared_error(y_test,y_pred))\n",
    "print('Root Mean Squared Error:',np.sqrt(metrics.mean_squared_error(y_test,y_pred)))\n",
    "print('Explained Variance Score:',metrics.explained_variance_score(y_test,y_pred))"
   ]
  },
  {
   "cell_type": "markdown",
   "id": "54f90da9-52d2-43c7-882c-648230dfca88",
   "metadata": {},
   "source": [
    "<h3>THANK YOU !</h3>"
   ]
  },
  {
   "cell_type": "code",
   "execution_count": null,
   "id": "6bdf4671-ca84-4e5d-94cf-3ba3b01fe29a",
   "metadata": {},
   "outputs": [],
   "source": []
  }
 ],
 "metadata": {
  "kernelspec": {
   "display_name": "Python 3",
   "language": "python",
   "name": "python3"
  },
  "language_info": {
   "codemirror_mode": {
    "name": "ipython",
    "version": 3
   },
   "file_extension": ".py",
   "mimetype": "text/x-python",
   "name": "python",
   "nbconvert_exporter": "python",
   "pygments_lexer": "ipython3",
   "version": "3.7.8"
  }
 },
 "nbformat": 4,
 "nbformat_minor": 5
}
